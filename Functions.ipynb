{
  "nbformat": 4,
  "nbformat_minor": 0,
  "metadata": {
    "colab": {
      "provenance": []
    },
    "kernelspec": {
      "name": "python3",
      "display_name": "Python 3"
    },
    "language_info": {
      "name": "python"
    }
  },
  "cells": [
    {
      "cell_type": "code",
      "source": [
        "import matplotlib.pyplot as plt\n",
        "plt.scatter(data['col_name_1'],data['col_name_2'])"
      ],
      "metadata": {
        "id": "VsaP6puz38SY"
      },
      "execution_count": null,
      "outputs": []
    },
    {
      "cell_type": "markdown",
      "source": [
        "##Plot two numerical columns##"
      ],
      "metadata": {
        "id": "59UOAVcA33T7"
      }
    },
    {
      "cell_type": "markdown",
      "source": [
        "##plot one numerical and one categorical column"
      ],
      "metadata": {
        "id": "863urEW54SbZ"
      }
    },
    {
      "cell_type": "code",
      "source": [
        "sns.boxplot(x='class',y='age',data=titanic,palette='rainbow')"
      ],
      "metadata": {
        "id": "TEaKZwU34Z4v"
      },
      "execution_count": null,
      "outputs": []
    },
    {
      "cell_type": "markdown",
      "source": [
        "##plot 2 numerical and 1 categorical column##"
      ],
      "metadata": {
        "id": "uRfdumc05E0a"
      }
    },
    {
      "cell_type": "code",
      "source": [
        "sns.scatterplot(x='firstgame','lastgame',hue='label',data)"
      ],
      "metadata": {
        "id": "QBNSzWMK5PGR"
      },
      "execution_count": null,
      "outputs": []
    },
    {
      "cell_type": "markdown",
      "source": [
        "##check for null values##"
      ],
      "metadata": {
        "id": "3hF9Qrg45e64"
      }
    },
    {
      "cell_type": "code",
      "source": [
        "data.isnull().sum()"
      ],
      "metadata": {
        "id": "lMFiXteN5tvN"
      },
      "execution_count": null,
      "outputs": []
    },
    {
      "cell_type": "markdown",
      "source": [
        "##check the cardinallity of a categorical column##"
      ],
      "metadata": {
        "id": "hMm04oS76QUb"
      }
    },
    {
      "cell_type": "code",
      "source": [
        "data.nunique()"
      ],
      "metadata": {
        "id": "_4g9brSM6KHU"
      },
      "execution_count": null,
      "outputs": []
    }
  ]
}